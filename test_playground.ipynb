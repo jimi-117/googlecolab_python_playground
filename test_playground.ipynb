{
  "nbformat": 4,
  "nbformat_minor": 0,
  "metadata": {
    "colab": {
      "provenance": [],
      "mount_file_id": "184bIySkEy80QybA4IgFz7vjT2-b_rXDS",
      "authorship_tag": "ABX9TyOggYZVcqHM7m84YitxSFM2",
      "include_colab_link": true
    },
    "kernelspec": {
      "name": "python3",
      "display_name": "Python 3"
    },
    "language_info": {
      "name": "python"
    }
  },
  "cells": [
    {
      "cell_type": "markdown",
      "metadata": {
        "id": "view-in-github",
        "colab_type": "text"
      },
      "source": [
        "<a href=\"https://colab.research.google.com/github/jimi-117/googlecolab_python_playground/blob/main/test_playground.ipynb\" target=\"_parent\"><img src=\"https://colab.research.google.com/assets/colab-badge.svg\" alt=\"Open In Colab\"/></a>"
      ]
    },
    {
      "cell_type": "code",
      "metadata": {
        "colab": {
          "base_uri": "https://localhost:8080/"
        },
        "id": "aJSTCGe2Hi4E",
        "outputId": "8ee73887-f5c5-423b-af72-e93028645cbb"
      },
      "source": [
        "!python -V"
      ],
      "execution_count": null,
      "outputs": [
        {
          "output_type": "stream",
          "name": "stdout",
          "text": [
            "Python 3.8.10\n"
          ]
        }
      ]
    },
    {
      "cell_type": "code",
      "metadata": {
        "id": "ZiMNavVdH22d"
      },
      "source": [
        "import operator"
      ],
      "execution_count": null,
      "outputs": []
    },
    {
      "cell_type": "code",
      "metadata": {
        "colab": {
          "base_uri": "https://localhost:8080/"
        },
        "id": "Rt5ZhN2tH6dO",
        "outputId": "0c8ac4a5-a0db-4125-93b6-4c7d4822a211"
      },
      "source": [
        "def mul_two(a,b):\n",
        "    return a*b\n",
        "\n",
        "print(mul_two(2,3))"
      ],
      "execution_count": null,
      "outputs": [
        {
          "output_type": "stream",
          "text": [
            "6\n"
          ],
          "name": "stdout"
        }
      ]
    },
    {
      "cell_type": "code",
      "source": [
        "mul_two = lambda a, b : a*b\n",
        "\n",
        "print(mul_two(2,3))"
      ],
      "metadata": {
        "colab": {
          "base_uri": "https://localhost:8080/"
        },
        "id": "w_o5EyQI0pYf",
        "outputId": "7d574754-8b7e-47fb-cd4f-6e775abb1474"
      },
      "execution_count": null,
      "outputs": [
        {
          "output_type": "stream",
          "name": "stdout",
          "text": [
            "6\n"
          ]
        }
      ]
    },
    {
      "cell_type": "code",
      "metadata": {
        "colab": {
          "base_uri": "https://localhost:8080/"
        },
        "id": "joPiW1_8I_4X",
        "outputId": "98d18b10-1209-4fbc-f9f6-6057d3bcb1fd"
      },
      "source": [
        "import operator\n",
        "\n",
        "def mult_two(a, b):\n",
        "    # 後にa,bの引数をinputで入力したいので計算できるようにintに変換して関数にわたす\n",
        "    return operator.mul(int(a), int(b))\n",
        "\n",
        "\n",
        "if __name__ == '__main__':\n",
        "    print(\"Example:\")\n",
        "    print(mult_two(input('a'), input('b')))\n",
        "    \n",
        "    # These \"asserts\" are used for self-checking and not for an auto-testing\n",
        "    assert mult_two(3, 2) == 6\n",
        "    assert mult_two(1, 0) == 0\n",
        "    print(\"Coding complete? Click 'Check' to earn cool rewards!\")"
      ],
      "execution_count": null,
      "outputs": [
        {
          "output_type": "stream",
          "name": "stdout",
          "text": [
            "Example:\n",
            "a2\n",
            "b3\n",
            "6\n",
            "Coding complete? Click 'Check' to earn cool rewards!\n"
          ]
        }
      ]
    },
    {
      "cell_type": "code",
      "metadata": {
        "id": "mQe6BjyFQVee",
        "colab": {
          "base_uri": "https://localhost:8080/"
        },
        "outputId": "d259936a-cfa9-421c-8d6b-a20a08add080"
      },
      "source": [
        "mult_two = int.__mul__\n",
        "\n",
        "\n",
        "if __name__ == '__main__':\n",
        "    print(mult_two(2, 3))\n",
        "\n",
        "    assert mult_two(3, 2) == 6\n",
        "    assert mult_two(1, 0) == 0"
      ],
      "execution_count": null,
      "outputs": [
        {
          "output_type": "stream",
          "name": "stdout",
          "text": [
            "6\n"
          ]
        }
      ]
    },
    {
      "cell_type": "code",
      "source": [
        "def number_length(a: int) -> int:\n",
        "   \n",
        "    x = len(str(a))\n",
        "    return x\n",
        "\n",
        "print('Example:')\n",
        "print(number_length(10))\n",
        "\n",
        "assert number_length(10) == 2\n",
        "assert number_length(0) == 1\n",
        "assert number_length(4) == 1\n",
        "assert number_length(44) == 2\n",
        "\n",
        "print(\"The mission is done! Click 'Check' to earn cool rewards!\")"
      ],
      "metadata": {
        "colab": {
          "base_uri": "https://localhost:8080/"
        },
        "id": "BIGUpzq-2DXU",
        "outputId": "121abab5-1c41-4907-b615-515de5267058"
      },
      "execution_count": null,
      "outputs": [
        {
          "output_type": "stream",
          "name": "stdout",
          "text": [
            "Example:\n",
            "2\n",
            "The mission is done! Click 'Check' to earn cool rewards!\n"
          ]
        }
      ]
    },
    {
      "cell_type": "code",
      "metadata": {
        "id": "8yGCEf_BA1D1",
        "colab": {
          "base_uri": "https://localhost:8080/"
        },
        "outputId": "da12a5ac-b4ab-4908-f3fb-44807bb9448c"
      },
      "source": [
        "def number_length(a: int) -> int:\n",
        "\n",
        "    length = 1\n",
        "    \n",
        "    while True:\n",
        "        b = a //10\n",
        "\n",
        "        if b > 0:\n",
        "            length += 1\n",
        "            a = b\n",
        "        else:\n",
        "            break\n",
        "\n",
        "    return length\n",
        "    \n",
        "number_length(int(input()))"
      ],
      "execution_count": null,
      "outputs": [
        {
          "name": "stdout",
          "output_type": "stream",
          "text": [
            "99\n"
          ]
        },
        {
          "output_type": "execute_result",
          "data": {
            "text/plain": [
              "2"
            ]
          },
          "metadata": {},
          "execution_count": 12
        }
      ]
    },
    {
      "cell_type": "code",
      "source": [
        "99//10"
      ],
      "metadata": {
        "colab": {
          "base_uri": "https://localhost:8080/"
        },
        "id": "aCix5Qlg3ffz",
        "outputId": "24973e1c-4648-4af6-d263-503b46a16d64"
      },
      "execution_count": null,
      "outputs": [
        {
          "output_type": "execute_result",
          "data": {
            "text/plain": [
              "9"
            ]
          },
          "metadata": {},
          "execution_count": 15
        }
      ]
    },
    {
      "cell_type": "code",
      "metadata": {
        "colab": {
          "base_uri": "https://localhost:8080/",
          "height": 134
        },
        "id": "hUC3_7G570-j",
        "outputId": "9c2e9ed6-9098-4916-bcf7-36e92b06e4a4"
      },
      "source": [
        "def number_length(a: int) -> int:\n",
        "    return 1 + ((b := a // 10) and number_length(b))"
      ],
      "execution_count": null,
      "outputs": [
        {
          "output_type": "error",
          "ename": "SyntaxError",
          "evalue": "ignored",
          "traceback": [
            "\u001b[0;36m  File \u001b[0;32m\"<ipython-input-8-a1e118441e56>\"\u001b[0;36m, line \u001b[0;32m2\u001b[0m\n\u001b[0;31m    return 1 + ((b := a // 10) and number_length(b))\u001b[0m\n\u001b[0m                   ^\u001b[0m\n\u001b[0;31mSyntaxError\u001b[0m\u001b[0;31m:\u001b[0m invalid syntax\n"
          ]
        }
      ]
    },
    {
      "cell_type": "code",
      "metadata": {
        "colab": {
          "base_uri": "https://localhost:8080/"
        },
        "id": "BhmM2oqW-N_O",
        "outputId": "116aff0b-8ff4-4000-99f1-cfda3768ba2b"
      },
      "source": [
        "def number_length(a: int) -> int:\n",
        "    digits = 0\n",
        "    while a:\n",
        "        digits += 1\n",
        "        a //= 10\n",
        "    return digits + (not digits) # 0 has 1 digit\n",
        "    # a = 0のときwhileはfalseとなりdigits=0のままだが、not演算子によりtrueに反転し+1となる。\n",
        "number_length(10)\n"
      ],
      "execution_count": null,
      "outputs": [
        {
          "output_type": "execute_result",
          "data": {
            "text/plain": [
              "2"
            ]
          },
          "metadata": {},
          "execution_count": 13
        }
      ]
    },
    {
      "cell_type": "code",
      "metadata": {
        "colab": {
          "base_uri": "https://localhost:8080/"
        },
        "id": "DBuNFgQdJ6zA",
        "outputId": "d06fcad1-9c3c-4b7c-d3ea-a9a04557ce32"
      },
      "source": [
        "type(0)"
      ],
      "execution_count": null,
      "outputs": [
        {
          "output_type": "execute_result",
          "data": {
            "text/plain": [
              "int"
            ]
          },
          "metadata": {},
          "execution_count": 9
        }
      ]
    },
    {
      "cell_type": "code",
      "metadata": {
        "colab": {
          "base_uri": "https://localhost:8080/"
        },
        "id": "Jd71v6n2KtZf",
        "outputId": "5dfb21bd-1665-4b94-ab0e-4fdc78a7f447"
      },
      "source": [
        "from math import log10\n",
        "\n",
        "def number_length(a: int) -> int:\n",
        "    return int(log10(a or 1) + 1)\n",
        "# log(x,y)はyを底とするxの対数を計算する\n",
        "number_length(10)"
      ],
      "execution_count": null,
      "outputs": [
        {
          "output_type": "execute_result",
          "data": {
            "text/plain": [
              "2"
            ]
          },
          "metadata": {},
          "execution_count": 15
        }
      ]
    },
    {
      "cell_type": "code",
      "metadata": {
        "id": "qbSMu1sdP8V8",
        "colab": {
          "base_uri": "https://localhost:8080/"
        },
        "outputId": "0e9cef0c-8e72-4048-e39b-ea694661ba0a"
      },
      "source": [
        "import re\n",
        "\n",
        "text = '2020'\n",
        "\n",
        "result = re.findall(r'\\d+', text)\n",
        "\n",
        "print(result[0])"
      ],
      "execution_count": null,
      "outputs": [
        {
          "output_type": "stream",
          "name": "stdout",
          "text": [
            "2020\n"
          ]
        }
      ]
    },
    {
      "cell_type": "code",
      "metadata": {
        "colab": {
          "base_uri": "https://localhost:8080/"
        },
        "id": "0SMQMM_wZTzb",
        "outputId": "869bc792-11df-4e29-b4b8-649a803ab143"
      },
      "source": [
        "text = 'python'\n",
        "x = [str(a) for a in text] #リスト内包表記\n",
        "print(x)"
      ],
      "execution_count": null,
      "outputs": [
        {
          "output_type": "stream",
          "name": "stdout",
          "text": [
            "['p', 'y', 't', 'h', 'o', 'n']\n"
          ]
        }
      ]
    },
    {
      "cell_type": "code",
      "metadata": {
        "id": "o4N9fKjb6ZIR"
      },
      "source": [],
      "execution_count": null,
      "outputs": []
    },
    {
      "cell_type": "code",
      "metadata": {
        "colab": {
          "base_uri": "https://localhost:8080/"
        },
        "id": "JdCvZRvThAxL",
        "outputId": "63aa9283-d59a-43ac-c445-01c434b0b16a"
      },
      "source": [
        "number = int(input())\n",
        "x = [int(a) for a in str(number)]\n",
        "\n",
        "result = 0\n",
        "for i in x:\n",
        "    if i == 0:\n",
        "        result += 1\n",
        "    else:\n",
        "        continue\n",
        "print(result)\n",
        "# 数字内のすべてのゼロの数を数えて足す"
      ],
      "execution_count": null,
      "outputs": [
        {
          "output_type": "stream",
          "name": "stdout",
          "text": [
            "100100\n",
            "4\n"
          ]
        }
      ]
    },
    {
      "cell_type": "code",
      "metadata": {
        "colab": {
          "base_uri": "https://localhost:8080/"
        },
        "id": "jgHKh112h7qh",
        "outputId": "daa0672b-2f2c-4cef-a373-360f08661823"
      },
      "source": [
        "number = int(input())\n",
        "x = [int(a) for a in str(number)]\n",
        "\n",
        "result = 0\n",
        "for i in reversed(x): #リストを前後入れ替える\n",
        "    if i == 0:\n",
        "        result += 1\n",
        "    else:\n",
        "        break\n",
        "print(result)\n",
        "# 数字末尾のゼロだけ数える"
      ],
      "execution_count": null,
      "outputs": [
        {
          "output_type": "stream",
          "name": "stdout",
          "text": [
            "100100\n",
            "2\n"
          ]
        }
      ]
    },
    {
      "cell_type": "code",
      "metadata": {
        "id": "LLKIp-4ghX5d"
      },
      "source": [],
      "execution_count": null,
      "outputs": []
    },
    {
      "cell_type": "code",
      "metadata": {
        "colab": {
          "base_uri": "https://localhost:8080/"
        },
        "id": "0v0MXVhbiqNr",
        "outputId": "d9d3b691-1dcd-4444-9ffd-e6c2c83116a7"
      },
      "source": [
        "num = 10001\n",
        "len(str(num)) - len(str(num).rstrip('0'))\n",
        "# strip()は指定した文字が連続している限り消していくメソッド\n",
        "# rは右から、lは左から連続する指定された文字を消す\n",
        "# 全体の文字数ー右からゼロを連続で消していった時ののこりの文字数\n",
        "\n",
        "#python3.8からはウォルラス演算子を用いて次のようにもできる。\n",
        "len(s := str(num)) - len(s.rstrip('0'))"
      ],
      "execution_count": null,
      "outputs": [
        {
          "output_type": "stream",
          "name": "stdout",
          "text": [
            "5\n"
          ]
        }
      ]
    },
    {
      "cell_type": "code",
      "metadata": {
        "colab": {
          "base_uri": "https://localhost:8080/"
        },
        "id": "y0t7hZ6liwDp",
        "outputId": "ab5dcf1b-34ab-44e2-d844-fb846e60d626"
      },
      "source": [
        "end_zeros = lambda num: len(str(num)) - len(str(num).rstrip('0'))\n",
        "#ラムダ式を使うと関数を定義せずに使える\n",
        "end_zeros(int(input()))"
      ],
      "execution_count": null,
      "outputs": [
        {
          "name": "stdout",
          "output_type": "stream",
          "text": [
            "100100\n"
          ]
        },
        {
          "output_type": "execute_result",
          "data": {
            "text/plain": [
              "2"
            ]
          },
          "metadata": {},
          "execution_count": 3
        }
      ]
    },
    {
      "cell_type": "code",
      "metadata": {
        "colab": {
          "base_uri": "https://localhost:8080/"
        },
        "id": "_Q5WApPvenrq",
        "outputId": "1a4a6bb1-603f-48d7-ed27-1310917925bc"
      },
      "source": [
        "def backward_string(val: str) -> str:\n",
        "    # your code here\n",
        "    new_val_list = list(reversed(val))\n",
        "    new_val = ''.join(list(reversed(val)))\n",
        "    return new_val\n",
        "    \n",
        "\n",
        "if __name__ == '__main__':\n",
        "    print(\"Example:\")\n",
        "    print(backward_string('val'))\n",
        "\n",
        "    # These \"asserts\" are used for self-checking and not for an auto-testing\n",
        "    assert backward_string('val') == 'lav'\n",
        "    assert backward_string('') == ''\n",
        "    assert backward_string('ohho') == 'ohho'\n",
        "    assert backward_string('123456789') == '987654321'\n",
        "    print(\"Coding complete? Click 'Check' to earn cool rewards!\")"
      ],
      "execution_count": null,
      "outputs": [
        {
          "output_type": "stream",
          "name": "stdout",
          "text": [
            "Example:\n",
            "lav\n",
            "Coding complete? Click 'Check' to earn cool rewards!\n"
          ]
        }
      ]
    },
    {
      "cell_type": "code",
      "metadata": {
        "colab": {
          "base_uri": "https://localhost:8080/"
        },
        "id": "qkh7sVZi9JYI",
        "outputId": "aa7a182c-adfb-4a8d-8bb6-890e45d24c1c"
      },
      "source": [
        "backward_string = lambda val: val[::-1]\n",
        "        #defで関数定義するかわりに無名関数lambdaを用いる\n",
        "\n",
        "if __name__ == '__main__':\n",
        "    print(\"Example:\")\n",
        "    print(backward_string('val'))\n",
        "\n",
        "    # These \"asserts\" are used for self-checking and not for an auto-testing\n",
        "    assert backward_string('val') == 'lav'\n",
        "    assert backward_string('') == ''\n",
        "    assert backward_string('ohho') == 'ohho'\n",
        "    assert backward_string('123456789') == '987654321'\n",
        "    print(\"Coding complete? Click 'Check' to earn cool rewards!\")"
      ],
      "execution_count": null,
      "outputs": [
        {
          "output_type": "stream",
          "name": "stdout",
          "text": [
            "Example:\n",
            "lav\n",
            "Coding complete? Click 'Check' to earn cool rewards!\n"
          ]
        }
      ]
    },
    {
      "cell_type": "code",
      "metadata": {
        "colab": {
          "base_uri": "https://localhost:8080/"
        },
        "id": "rZIHz_vIihVA",
        "outputId": "0fb2f52b-c060-42b8-c753-33f700c66fe4"
      },
      "source": [
        "from typing import Iterable\n",
        "\n",
        "\n",
        "def remove_all_before(items: list, border: int) -> Iterable:\n",
        "    # your code here\n",
        "    return list(items[items.index(border):] if border in items else items)\n",
        "\n",
        "if __name__ == '__main__':\n",
        "    print(\"Example:\")\n",
        "    print(list(remove_all_before([1, 2, 3, 4, 5], 3)))\n",
        "\n",
        "    # These \"asserts\" are used for self-checking and not for an auto-testing\n",
        "    assert list(remove_all_before([1, 2, 3, 4, 5], 3)) == [3, 4, 5]\n",
        "    assert list(remove_all_before([1, 1, 2, 2, 3, 3], 2)) == [2, 2, 3, 3]\n",
        "    assert list(remove_all_before([1, 1, 2, 4, 2, 3, 4], 2)) == [2, 4, 2, 3, 4]\n",
        "    assert list(remove_all_before([1, 1, 5, 6, 7], 2)) == [1, 1, 5, 6, 7]\n",
        "    assert list(remove_all_before([], 0)) == []\n",
        "    assert list(remove_all_before([7, 7, 7, 7, 7, 7, 7, 7, 7], 7)) == [7, 7, 7, 7, 7, 7, 7, 7, 7]\n",
        "    print(\"Coding complete? Click 'Check' to earn cool rewards!\")\n"
      ],
      "execution_count": null,
      "outputs": [
        {
          "output_type": "stream",
          "name": "stdout",
          "text": [
            "Example:\n",
            "[3, 4, 5]\n",
            "Coding complete? Click 'Check' to earn cool rewards!\n"
          ]
        }
      ]
    },
    {
      "cell_type": "code",
      "metadata": {
        "colab": {
          "base_uri": "https://localhost:8080/"
        },
        "id": "r9nPrjY0aWSB",
        "outputId": "5bfcea08-19d0-4549-9254-1afb5b130e48"
      },
      "source": [
        "from typing import Iterable\n",
        "\n",
        "\n",
        "def remove_all_before(items: list, border: int) -> Iterable:\n",
        "    # your code here\n",
        "    if border in items:\n",
        "        return list(items[items.index(border):])\n",
        "    else:\n",
        "        return items\n",
        "\n",
        "\n",
        "if __name__ == '__main__':\n",
        "    print(\"Example:\")\n",
        "    print(list(remove_all_before([1, 2, 3, 4, 5], 3)))\n",
        "\n",
        "    # These \"asserts\" are used for self-checking and not for an auto-testing\n",
        "    assert list(remove_all_before([1, 2, 3, 4, 5], 3)) == [3, 4, 5]\n",
        "    assert list(remove_all_before([1, 1, 2, 2, 3, 3], 2)) == [2, 2, 3, 3]\n",
        "    assert list(remove_all_before([1, 1, 2, 4, 2, 3, 4], 2)) == [2, 4, 2, 3, 4]\n",
        "    assert list(remove_all_before([1, 1, 5, 6, 7], 2)) == [1, 1, 5, 6, 7]\n",
        "    assert list(remove_all_before([], 0)) == []\n",
        "    assert list(remove_all_before([7, 7, 7, 7, 7, 7, 7, 7, 7], 7)) == [7, 7, 7, 7, 7, 7, 7, 7, 7]\n",
        "    print(\"Coding complete? Click 'Check' to earn cool rewards!\")\n"
      ],
      "execution_count": null,
      "outputs": [
        {
          "output_type": "stream",
          "name": "stdout",
          "text": [
            "Example:\n",
            "[3, 4, 5]\n",
            "Coding complete? Click 'Check' to earn cool rewards!\n"
          ]
        }
      ]
    },
    {
      "cell_type": "code",
      "metadata": {
        "colab": {
          "base_uri": "https://localhost:8080/"
        },
        "id": "dGBsQxwIv0NG",
        "outputId": "1c910e81-0e1e-4a55-fa9d-8ef7a9a2d7a1"
      },
      "source": [
        "def is_all_upper(text: str) -> bool:\n",
        "    # your code here\n",
        "    \n",
        "    return text.upper() == text\n",
        "\n",
        "if __name__ == '__main__':\n",
        "    print(\"Example:\")\n",
        "    print(is_all_upper('ALL UPPER'))\n",
        "\n",
        "    # These \"asserts\" are used for self-checking and not for an auto-testing\n",
        "    assert is_all_upper('ALL UPPER') == True\n",
        "    assert is_all_upper('all lower') == False\n",
        "    assert is_all_upper('mixed UPPER and lower') == False\n",
        "    assert is_all_upper('') == True\n",
        "    assert is_all_upper('     ') == True\n",
        "    assert is_all_upper('444') == True\n",
        "    assert is_all_upper('55 55 5') == True\n",
        "    print(\"Coding complete? Click 'Check' to earn cool rewards!\")\n"
      ],
      "execution_count": null,
      "outputs": [
        {
          "output_type": "stream",
          "name": "stdout",
          "text": [
            "Example:\n",
            "ALL UPPER ALL UPPER\n",
            "True\n",
            "ALL UPPER ALL UPPER\n",
            "ALL LOWER all lower\n",
            "MIXED UPPER AND LOWER mixed UPPER and lower\n",
            " \n",
            "           \n",
            "444 444\n",
            "55 55 5 55 55 5\n",
            "Coding complete? Click 'Check' to earn cool rewards!\n"
          ]
        }
      ]
    },
    {
      "cell_type": "code",
      "metadata": {
        "colab": {
          "base_uri": "https://localhost:8080/"
        },
        "id": "2SWRfNnFKRCk",
        "outputId": "90b79335-bf9b-4b47-d0b5-e812ca38e68f"
      },
      "source": [
        "text = 'tx up'\n",
        "new_text = text.replace(' ', '')\n",
        "print(new_text)\n",
        "type('444')"
      ],
      "execution_count": null,
      "outputs": [
        {
          "output_type": "stream",
          "name": "stdout",
          "text": [
            "txup\n"
          ]
        },
        {
          "output_type": "execute_result",
          "data": {
            "text/plain": [
              "str"
            ]
          },
          "metadata": {},
          "execution_count": 1
        }
      ]
    },
    {
      "cell_type": "code",
      "metadata": {
        "colab": {
          "base_uri": "https://localhost:8080/",
          "height": 278
        },
        "id": "teI_Na_N3H8p",
        "outputId": "47c4fc46-f11c-42af-c1dd-02387080ace9"
      },
      "source": [
        "from typing import Iterable\n",
        "\n",
        "\n",
        "def replace_first(items: list) -> Iterable:\n",
        "    # your code here\n",
        "    if items:\n",
        "        items.insert(3, items.pop())\n",
        "    return items\n",
        "\n",
        "if __name__ == \"__main__\":\n",
        "    print(\"Example:\")\n",
        "    print(list(replace_first([1, 2, 3, 4])))\n",
        "\n",
        "    # These \"asserts\" are used for self-checking and not for an auto-testing\n",
        "    assert list(replace_first([1, 2, 3, 4])) == [2, 3, 4, 1]\n",
        "    assert list(replace_first([1])) == [1]\n",
        "    assert list(replace_first([])) == []\n",
        "    print(\"Coding complete? Click 'Check' to earn cool rewards!\")\n"
      ],
      "execution_count": null,
      "outputs": [
        {
          "output_type": "stream",
          "name": "stdout",
          "text": [
            "Example:\n",
            "[1, 2, 3, 4]\n"
          ]
        },
        {
          "output_type": "error",
          "ename": "AssertionError",
          "evalue": "ignored",
          "traceback": [
            "\u001b[0;31m---------------------------------------------------------------------------\u001b[0m",
            "\u001b[0;31mAssertionError\u001b[0m                            Traceback (most recent call last)",
            "\u001b[0;32m<ipython-input-22-fc25d7ac776d>\u001b[0m in \u001b[0;36m<module>\u001b[0;34m()\u001b[0m\n\u001b[1;32m     13\u001b[0m \u001b[0;34m\u001b[0m\u001b[0m\n\u001b[1;32m     14\u001b[0m     \u001b[0;31m# These \"asserts\" are used for self-checking and not for an auto-testing\u001b[0m\u001b[0;34m\u001b[0m\u001b[0;34m\u001b[0m\u001b[0;34m\u001b[0m\u001b[0m\n\u001b[0;32m---> 15\u001b[0;31m     \u001b[0;32massert\u001b[0m \u001b[0mlist\u001b[0m\u001b[0;34m(\u001b[0m\u001b[0mreplace_first\u001b[0m\u001b[0;34m(\u001b[0m\u001b[0;34m[\u001b[0m\u001b[0;36m1\u001b[0m\u001b[0;34m,\u001b[0m \u001b[0;36m2\u001b[0m\u001b[0;34m,\u001b[0m \u001b[0;36m3\u001b[0m\u001b[0;34m,\u001b[0m \u001b[0;36m4\u001b[0m\u001b[0;34m]\u001b[0m\u001b[0;34m)\u001b[0m\u001b[0;34m)\u001b[0m \u001b[0;34m==\u001b[0m \u001b[0;34m[\u001b[0m\u001b[0;36m2\u001b[0m\u001b[0;34m,\u001b[0m \u001b[0;36m3\u001b[0m\u001b[0;34m,\u001b[0m \u001b[0;36m4\u001b[0m\u001b[0;34m,\u001b[0m \u001b[0;36m1\u001b[0m\u001b[0;34m]\u001b[0m\u001b[0;34m\u001b[0m\u001b[0;34m\u001b[0m\u001b[0m\n\u001b[0m\u001b[1;32m     16\u001b[0m     \u001b[0;32massert\u001b[0m \u001b[0mlist\u001b[0m\u001b[0;34m(\u001b[0m\u001b[0mreplace_first\u001b[0m\u001b[0;34m(\u001b[0m\u001b[0;34m[\u001b[0m\u001b[0;36m1\u001b[0m\u001b[0;34m]\u001b[0m\u001b[0;34m)\u001b[0m\u001b[0;34m)\u001b[0m \u001b[0;34m==\u001b[0m \u001b[0;34m[\u001b[0m\u001b[0;36m1\u001b[0m\u001b[0;34m]\u001b[0m\u001b[0;34m\u001b[0m\u001b[0;34m\u001b[0m\u001b[0m\n\u001b[1;32m     17\u001b[0m     \u001b[0;32massert\u001b[0m \u001b[0mlist\u001b[0m\u001b[0;34m(\u001b[0m\u001b[0mreplace_first\u001b[0m\u001b[0;34m(\u001b[0m\u001b[0;34m[\u001b[0m\u001b[0;34m]\u001b[0m\u001b[0;34m)\u001b[0m\u001b[0;34m)\u001b[0m \u001b[0;34m==\u001b[0m \u001b[0;34m[\u001b[0m\u001b[0;34m]\u001b[0m\u001b[0;34m\u001b[0m\u001b[0;34m\u001b[0m\u001b[0m\n",
            "\u001b[0;31mAssertionError\u001b[0m: "
          ]
        }
      ]
    },
    {
      "cell_type": "code",
      "source": [
        "def first_word(text: str) -> str:\n",
        "    # your code here\n",
        "    words = [word for word in text.split()]\n",
        "    return words[0]\n",
        "\n",
        "\n",
        "print(\"Example:\")\n",
        "print(first_word(\"Hello world\"))\n",
        "\n",
        "assert first_word(\"Hello world\") == \"Hello\"\n",
        "assert first_word(\"a word\") == \"a\"\n",
        "assert first_word(\"greeting from CheckiO Planet\") == \"greeting\"\n",
        "assert first_word(\"hi\") == \"hi\"\n",
        "\n",
        "print(\"The mission is done! Click 'Check Solution' to earn rewards!\")\n"
      ],
      "metadata": {
        "colab": {
          "base_uri": "https://localhost:8080/"
        },
        "id": "luQrNMm5BSRE",
        "outputId": "4d022d20-4e10-4b7f-8b6d-21091e71556c"
      },
      "execution_count": null,
      "outputs": [
        {
          "output_type": "stream",
          "name": "stdout",
          "text": [
            "Example:\n",
            "Hello\n",
            "The mission is done! Click 'Check Solution' to earn rewards!\n"
          ]
        }
      ]
    },
    {
      "cell_type": "code",
      "source": [
        "text = input()\n",
        "val = text[::-1]\n",
        "print(val)"
      ],
      "metadata": {
        "colab": {
          "base_uri": "https://localhost:8080/"
        },
        "id": "vtwTkQioH1CN",
        "outputId": "37545aaa-74e1-4c81-d18a-affe5e57fb9c"
      },
      "execution_count": null,
      "outputs": [
        {
          "output_type": "stream",
          "name": "stdout",
          "text": [
            "value\n",
            "eulav\n"
          ]
        }
      ]
    },
    {
      "cell_type": "code",
      "source": [
        "len('0123')"
      ],
      "metadata": {
        "id": "iByRAkqQ3FWA",
        "colab": {
          "base_uri": "https://localhost:8080/"
        },
        "outputId": "4c6b19da-9994-4eaa-dc4a-b46e6b671603"
      },
      "execution_count": null,
      "outputs": [
        {
          "output_type": "execute_result",
          "data": {
            "text/plain": [
              "4"
            ]
          },
          "metadata": {},
          "execution_count": 13
        }
      ]
    },
    {
      "cell_type": "code",
      "source": [
        "def index_power(array: list, n: int) -> int:\n",
        "    # your code here\n",
        "    return None\n",
        "\n",
        "print('Example:')\n",
        "print(index_power([1, 2, 3], 2))\n",
        "\n",
        "assert index_power([1, 2, 3, 4], 2) == 9\n",
        "assert index_power([1, 3, 10, 100], 3) == 1000000\n",
        "assert index_power([0, 1], 0) == 1\n",
        "assert index_power([1, 2], 3) == -1\n",
        "\n",
        "print(\"The mission is done! Click 'Check Solution' to earn rewards!\")"
      ],
      "metadata": {
        "id": "pyhQzx8UrJqd"
      },
      "execution_count": null,
      "outputs": []
    },
    {
      "cell_type": "code",
      "source": [
        "def index_power(array: list, n: int) -> int:\n",
        "\n",
        "index_power([1,3,5,10], 2)"
      ],
      "metadata": {
        "colab": {
          "base_uri": "https://localhost:8080/",
          "height": 135
        },
        "id": "Fn41POGIokC5",
        "outputId": "e435e0f6-b243-4700-d6ad-1b24bc5477aa"
      },
      "execution_count": null,
      "outputs": [
        {
          "output_type": "error",
          "ename": "IndentationError",
          "evalue": "ignored",
          "traceback": [
            "\u001b[0;36m  File \u001b[0;32m\"<ipython-input-15-9107abb5be5c>\"\u001b[0;36m, line \u001b[0;32m3\u001b[0m\n\u001b[0;31m    index_power([1,3,5,10], 2)\u001b[0m\n\u001b[0m              ^\u001b[0m\n\u001b[0;31mIndentationError\u001b[0m\u001b[0;31m:\u001b[0m expected an indented block\n"
          ]
        }
      ]
    },
    {
      "cell_type": "code",
      "source": [],
      "metadata": {
        "id": "vQkyqO8PMGbu"
      },
      "execution_count": null,
      "outputs": []
    },
    {
      "cell_type": "code",
      "metadata": {
        "id": "xMlfEatliyM4"
      },
      "source": [
        "import numpy as np"
      ],
      "execution_count": null,
      "outputs": []
    },
    {
      "cell_type": "code",
      "metadata": {
        "colab": {
          "base_uri": "https://localhost:8080/"
        },
        "id": "8hQlD0X1x2b-",
        "outputId": "9d04dd09-fa63-4d9f-e05a-6a56e76777a1"
      },
      "source": [
        "a = np.array([1,2,3])\n",
        "a"
      ],
      "execution_count": null,
      "outputs": [
        {
          "output_type": "execute_result",
          "data": {
            "text/plain": [
              "array([1, 2, 3])"
            ]
          },
          "metadata": {
            "tags": []
          },
          "execution_count": 3
        }
      ]
    },
    {
      "cell_type": "code",
      "metadata": {
        "colab": {
          "base_uri": "https://localhost:8080/"
        },
        "id": "lT-seU67yETA",
        "outputId": "e6084659-c052-4f15-e9a6-3d7342a974f5"
      },
      "source": [
        "a.shape"
      ],
      "execution_count": null,
      "outputs": [
        {
          "output_type": "execute_result",
          "data": {
            "text/plain": [
              "(3,)"
            ]
          },
          "metadata": {
            "tags": []
          },
          "execution_count": 4
        }
      ]
    },
    {
      "cell_type": "code",
      "metadata": {
        "colab": {
          "base_uri": "https://localhost:8080/"
        },
        "id": "HFcCYHNoyKYw",
        "outputId": "1a8ce900-bbd3-4f99-9c06-5e248304a91b"
      },
      "source": [
        "\n",
        "len(a.shape)"
      ],
      "execution_count": null,
      "outputs": [
        {
          "output_type": "execute_result",
          "data": {
            "text/plain": [
              "1"
            ]
          },
          "metadata": {
            "tags": []
          },
          "execution_count": 5
        }
      ]
    },
    {
      "cell_type": "markdown",
      "metadata": {
        "id": "9NucRRedzUTK"
      },
      "source": [
        "縦横二次元の三行三列のアレイをつくる"
      ]
    },
    {
      "cell_type": "code",
      "metadata": {
        "colab": {
          "base_uri": "https://localhost:8080/"
        },
        "id": "SA_bMcIryY-5",
        "outputId": "1aa997cf-ef21-4f11-fd2e-f0db06c88184"
      },
      "source": [
        "b = np.array([\n",
        "              [1,2,3],\n",
        "              [4,5,6],\n",
        "              [7,8,9]\n",
        "])\n",
        "b"
      ],
      "execution_count": null,
      "outputs": [
        {
          "output_type": "execute_result",
          "data": {
            "text/plain": [
              "array([[1, 2, 3],\n",
              "       [4, 5, 6],\n",
              "       [7, 8, 9]])"
            ]
          },
          "metadata": {
            "tags": []
          },
          "execution_count": 6
        }
      ]
    },
    {
      "cell_type": "markdown",
      "metadata": {
        "id": "LfuSxZlQzj66"
      },
      "source": [
        "行列の形、次元数（この場合縦横の二次元）をしらべる"
      ]
    },
    {
      "cell_type": "code",
      "metadata": {
        "colab": {
          "base_uri": "https://localhost:8080/"
        },
        "id": "GwURbKE-ziYx",
        "outputId": "f01a1e92-6516-4de1-ab07-f2338f8d8590"
      },
      "source": [
        "print('shape', b.shape)\n",
        "print('rank', b.ndim)"
      ],
      "execution_count": null,
      "outputs": [
        {
          "output_type": "stream",
          "text": [
            "shape (3, 3)\n",
            "rank 2\n"
          ],
          "name": "stdout"
        }
      ]
    },
    {
      "cell_type": "markdown",
      "metadata": {
        "id": "PJuT5D140r8A"
      },
      "source": [
        "アレイ内の要素数を調べる"
      ]
    },
    {
      "cell_type": "code",
      "metadata": {
        "colab": {
          "base_uri": "https://localhost:8080/"
        },
        "id": "KSjZZLQw2Zwh",
        "outputId": "70525ea5-a1eb-430d-afb4-54a3a9b911c0"
      },
      "source": [
        "b.size"
      ],
      "execution_count": null,
      "outputs": [
        {
          "output_type": "execute_result",
          "data": {
            "text/plain": [
              "9"
            ]
          },
          "metadata": {
            "tags": []
          },
          "execution_count": 8
        }
      ]
    },
    {
      "cell_type": "code",
      "metadata": {
        "colab": {
          "base_uri": "https://localhost:8080/"
        },
        "id": "u9ELgR0e3P7R",
        "outputId": "8b60e6c9-8dc5-49eb-9569-ff761bee78dd"
      },
      "source": [
        "c = np.zeros((3,3))\n",
        "print(c)"
      ],
      "execution_count": null,
      "outputs": [
        {
          "output_type": "stream",
          "text": [
            "[[0. 0. 0.]\n",
            " [0. 0. 0.]\n",
            " [0. 0. 0.]]\n"
          ],
          "name": "stdout"
        }
      ]
    },
    {
      "cell_type": "code",
      "metadata": {
        "colab": {
          "base_uri": "https://localhost:8080/"
        },
        "id": "5kxnjnoh9Lcr",
        "outputId": "93228b9c-2294-4c55-d340-ef19144412fd"
      },
      "source": [
        "d = 1+np.random.random((8,5))\n",
        "d"
      ],
      "execution_count": null,
      "outputs": [
        {
          "output_type": "execute_result",
          "data": {
            "text/plain": [
              "array([[1.53458451, 1.2638565 , 1.64033774, 1.5220105 , 1.78431268],\n",
              "       [1.69337647, 1.18836251, 1.44156319, 1.01041704, 1.58813211],\n",
              "       [1.92615536, 1.41867062, 1.13036957, 1.29293249, 1.39377915],\n",
              "       [1.26770261, 1.26309998, 1.56208961, 1.99148954, 1.2254819 ],\n",
              "       [1.18441085, 1.32807833, 1.75943235, 1.13362867, 1.63386317],\n",
              "       [1.49789108, 1.09593535, 1.42188426, 1.78350583, 1.55709114],\n",
              "       [1.20845482, 1.03323761, 1.33066709, 1.8595696 , 1.29569542],\n",
              "       [1.61084535, 1.65652004, 1.89805367, 1.08896056, 1.85766344]])"
            ]
          },
          "metadata": {
            "tags": []
          },
          "execution_count": 10
        }
      ]
    },
    {
      "cell_type": "code",
      "metadata": {
        "colab": {
          "base_uri": "https://localhost:8080/"
        },
        "id": "StlWbFSF-I4I",
        "outputId": "f8c8e4f8-74c3-4a8f-ac5f-90a4c871103a"
      },
      "source": [
        "val = d[2,3]\n",
        "val"
      ],
      "execution_count": null,
      "outputs": [
        {
          "output_type": "execute_result",
          "data": {
            "text/plain": [
              "1.2929324893598473"
            ]
          },
          "metadata": {
            "tags": []
          },
          "execution_count": 11
        }
      ]
    },
    {
      "cell_type": "markdown",
      "metadata": {
        "id": "m3NifRXymduS"
      },
      "source": [
        "改行は\\n バックスラッシュｎ"
      ]
    },
    {
      "cell_type": "code",
      "metadata": {
        "colab": {
          "base_uri": "https://localhost:8080/"
        },
        "id": "A9jwyXYvmJnW",
        "outputId": "cbe8048e-439b-4a59-b053-1af63c9933f5"
      },
      "source": [
        "print('eatin\\ntakeout')"
      ],
      "execution_count": null,
      "outputs": [
        {
          "output_type": "stream",
          "text": [
            "eatin\n",
            "takeout\n"
          ],
          "name": "stdout"
        }
      ]
    },
    {
      "cell_type": "code",
      "metadata": {
        "colab": {
          "base_uri": "https://localhost:8080/"
        },
        "id": "NkqVdSihmpjW",
        "outputId": "52cdf3c0-484e-4ff1-f2dc-79f899d8d142"
      },
      "source": [
        "e = np.random.randint(1,10,(8,1))\n",
        "e"
      ],
      "execution_count": null,
      "outputs": [
        {
          "output_type": "execute_result",
          "data": {
            "text/plain": [
              "array([[8],\n",
              "       [9],\n",
              "       [7],\n",
              "       [1],\n",
              "       [3],\n",
              "       [1],\n",
              "       [5],\n",
              "       [5]])"
            ]
          },
          "metadata": {
            "tags": []
          },
          "execution_count": 13
        }
      ]
    },
    {
      "cell_type": "code",
      "metadata": {
        "colab": {
          "base_uri": "https://localhost:8080/"
        },
        "id": "nf8J7qBAnmq2",
        "outputId": "0748d535-c166-4fc8-96d2-b84152b26227"
      },
      "source": [
        "f = d+e\n",
        "f"
      ],
      "execution_count": null,
      "outputs": [
        {
          "output_type": "execute_result",
          "data": {
            "text/plain": [
              "array([[ 9.53458451,  9.2638565 ,  9.64033774,  9.5220105 ,  9.78431268],\n",
              "       [10.69337647, 10.18836251, 10.44156319, 10.01041704, 10.58813211],\n",
              "       [ 8.92615536,  8.41867062,  8.13036957,  8.29293249,  8.39377915],\n",
              "       [ 2.26770261,  2.26309998,  2.56208961,  2.99148954,  2.2254819 ],\n",
              "       [ 4.18441085,  4.32807833,  4.75943235,  4.13362867,  4.63386317],\n",
              "       [ 2.49789108,  2.09593535,  2.42188426,  2.78350583,  2.55709114],\n",
              "       [ 6.20845482,  6.03323761,  6.33066709,  6.8595696 ,  6.29569542],\n",
              "       [ 6.61084535,  6.65652004,  6.89805367,  6.08896056,  6.85766344]])"
            ]
          },
          "metadata": {
            "tags": []
          },
          "execution_count": 14
        }
      ]
    },
    {
      "cell_type": "markdown",
      "metadata": {
        "id": "OwpZ2uE-qa8E"
      },
      "source": [
        "ブロードキャストは手動で数式を計算させるよりも数倍高速に計算可能"
      ]
    },
    {
      "cell_type": "markdown",
      "metadata": {
        "id": "2sYJynq_JPA4"
      },
      "source": [
        "|$n$|$x_{n}$|$t_{n}$|\n",
        "|:--|:--|:--|\n",
        "|1|20|60000|\n",
        "|2|40|115000|\n",
        "|3|60|155000|\n"
      ]
    },
    {
      "cell_type": "code",
      "metadata": {
        "colab": {
          "base_uri": "https://localhost:8080/"
        },
        "id": "XMMYA3SUKkaO",
        "outputId": "d42ac95e-8082-4e27-fced-9bbb6be2cabe"
      },
      "source": [
        "x = np.array([20,40,60])\n",
        "x"
      ],
      "execution_count": null,
      "outputs": [
        {
          "output_type": "execute_result",
          "data": {
            "text/plain": [
              "array([20, 40, 60])"
            ]
          },
          "metadata": {
            "tags": []
          },
          "execution_count": 15
        }
      ]
    },
    {
      "cell_type": "code",
      "metadata": {
        "colab": {
          "base_uri": "https://localhost:8080/"
        },
        "id": "QHEmDezlKxj-",
        "outputId": "3a7327a8-0b3f-4a07-cba5-496fe9907662"
      },
      "source": [
        "type(x)"
      ],
      "execution_count": null,
      "outputs": [
        {
          "output_type": "execute_result",
          "data": {
            "text/plain": [
              "numpy.ndarray"
            ]
          },
          "metadata": {
            "tags": []
          },
          "execution_count": 16
        }
      ]
    },
    {
      "cell_type": "code",
      "metadata": {
        "colab": {
          "base_uri": "https://localhost:8080/"
        },
        "id": "EuDEQ_6ULEBV",
        "outputId": "418692c2-e5ff-418f-edfd-2a92211baa34"
      },
      "source": [
        "t = np.array([60000,115000,155000])\n",
        "t"
      ],
      "execution_count": null,
      "outputs": [
        {
          "output_type": "execute_result",
          "data": {
            "text/plain": [
              "array([ 60000, 115000, 155000])"
            ]
          },
          "metadata": {
            "tags": []
          },
          "execution_count": 17
        }
      ]
    },
    {
      "cell_type": "code",
      "metadata": {
        "colab": {
          "base_uri": "https://localhost:8080/"
        },
        "id": "gT-4Ise8LRAu",
        "outputId": "9d5b9e56-e28c-4b48-a2f3-d1680dc23b3a"
      },
      "source": [
        "x.mean()"
      ],
      "execution_count": null,
      "outputs": [
        {
          "output_type": "execute_result",
          "data": {
            "text/plain": [
              "40.0"
            ]
          },
          "metadata": {
            "tags": []
          },
          "execution_count": 18
        }
      ]
    },
    {
      "cell_type": "code",
      "metadata": {
        "colab": {
          "base_uri": "https://localhost:8080/"
        },
        "id": "Tk44fgSxOPxv",
        "outputId": "fa5ba938-daf7-4f03-8db5-28553395c41b"
      },
      "source": [
        "t.mean()"
      ],
      "execution_count": null,
      "outputs": [
        {
          "output_type": "execute_result",
          "data": {
            "text/plain": [
              "110000.0"
            ]
          },
          "metadata": {
            "tags": []
          },
          "execution_count": 19
        }
      ]
    },
    {
      "cell_type": "markdown",
      "metadata": {
        "id": "3ENZ7CeRgw54"
      },
      "source": [
        "単回帰分析\n",
        "$$\n",
        "f(x) = wx\n",
        "$$\n",
        "の最適なパラメータ\n",
        "$$\n",
        "w = \\dfrac{\\sum_{n=1}^N x_nt_n}{\\sum_{n=1}^N x_n^2}\n",
        "$$\n",
        "を求める。"
      ]
    },
    {
      "cell_type": "code",
      "metadata": {
        "id": "t_zzRmYLiY75"
      },
      "source": [],
      "execution_count": null,
      "outputs": []
    },
    {
      "cell_type": "code",
      "metadata": {
        "colab": {
          "base_uri": "https://localhost:8080/",
          "height": 265
        },
        "id": "oCmqkxakK_bq",
        "outputId": "1b23950d-f6a2-43b5-a8b3-83dfba982465"
      },
      "source": [
        "import numpy as np\n",
        "import matplotlib.pyplot as plt\n",
        "\n",
        "# 二乗和誤差\n",
        "def mse_loss(y_pred, y_true):\n",
        "    squared_error = (y_pred-y_true)**2\n",
        "    sum_squared_error = np.sum(squared_error)\n",
        "    loss = sum_squared_error / y_true.size\n",
        "    return loss\n",
        "\n",
        "# Matplotlibでグラフ描画\n",
        "x_vals = np.arange(-20, 20, 0.01)\n",
        "y_vals = np.square(x_vals)\n",
        "\n",
        "plt.plot(x_vals, y_vals, 'blue')\n",
        "plt.grid(True, which='major')\n",
        "plt.show()"
      ],
      "execution_count": null,
      "outputs": [
        {
          "output_type": "display_data",
          "data": {
            "image/png": "[encoded data removed]",
            "text/plain": [
              "<Figure size 432x288 with 1 Axes>"
            ]
          },
          "metadata": {
            "tags": [],
            "needs_background": "light"
          }
        }
      ]
    },
    {
      "cell_type": "code",
      "metadata": {
        "colab": {
          "base_uri": "https://localhost:8080/",
          "height": 265
        },
        "id": "ziHAqL3RkHhy",
        "outputId": "0d40390d-8aa6-4020-84ba-b2fec991fcc0"
      },
      "source": [
        "import numpy as np\n",
        "import matplotlib.pyplot as plt\n",
        "\n",
        "# 平均絶対誤差\n",
        "def mae_loss(y_pred, y_true):\n",
        "    abs_error = np.abs(y_pred-y_true)\n",
        "    sum_abs_error = np.sum(abs_error)\n",
        "    loss = sum_abs_error / y_true.size\n",
        "    return loss\n",
        "\n",
        "# Matplotlibでグラフ描画\n",
        "x_vals = np.arange(-100, 100, 0.01)\n",
        "y_vals = np.abs(x_vals)\n",
        "\n",
        "plt.plot(x_vals, y_vals,'red')\n",
        "plt.grid(True, which='major')\n",
        "plt.show()"
      ],
      "execution_count": null,
      "outputs": [
        {
          "output_type": "display_data",
          "data": {
            "image/png": "[encoded data removed]",
            "text/plain": [
              "<Figure size 432x288 with 1 Axes>"
            ]
          },
          "metadata": {
            "tags": [],
            "needs_background": "light"
          }
        }
      ]
    },
    {
      "cell_type": "code",
      "metadata": {
        "colab": {
          "base_uri": "https://localhost:8080/",
          "height": 283
        },
        "id": "sxujB24eKUDO",
        "outputId": "50977961-f2fe-4680-e0a2-f625ebbac13b"
      },
      "source": [
        "#-logyのグラフ描画\n",
        "import numpy as np\n",
        "%matplotlib inline\n",
        "import matplotlib.pyplot as plt\n",
        "y = np.arange(0, 1.01, 0.01)\n",
        "delta = 1e-7\n",
        "loss = -np.log(y + delta)\n",
        "plt.plot(y, loss)\n",
        "plt.xlim(0, 1)\n",
        "plt.xlabel('output y')\n",
        "plt.ylim(0, 5)\n",
        "plt.ylabel('- log y')\n",
        "plt.show()"
      ],
      "execution_count": null,
      "outputs": [
        {
          "output_type": "display_data",
          "data": {
            "image/png": "[encoded data removed]",
            "text/plain": [
              "<Figure size 432x288 with 1 Axes>"
            ]
          },
          "metadata": {
            "tags": [],
            "needs_background": "light"
          }
        }
      ]
    }
  ]
}